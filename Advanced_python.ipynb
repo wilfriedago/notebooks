{
  "cells": [
    {
      "cell_type": "markdown",
      "metadata": {
        "id": "ikuRXf8pSvzE"
      },
      "source": [
        "# Advanced Python, ATUT 2024\n",
        "\n",
        "[`By Gilles Quentin Hacheme`](https://)\n",
        "\n"
      ]
    },
    {
      "cell_type": "markdown",
      "metadata": {
        "id": "Whg9U1DqS1Y2"
      },
      "source": [
        "## Generators"
      ]
    },
    {
      "cell_type": "code",
      "execution_count": null,
      "metadata": {
        "colab": {
          "base_uri": "https://localhost:8080/"
        },
        "id": "RunodhJKVnS7",
        "outputId": "f888466a-27d5-4d69-eaa9-00ecc4961ad1"
      },
      "outputs": [
        {
          "data": {
            "text/plain": [
              "[0, 1, 2, 3, 4, 5]"
            ]
          },
          "execution_count": 46,
          "metadata": {},
          "output_type": "execute_result"
        }
      ],
      "source": [
        "def get_n_numbers_list(n):\n",
        "  numbers = []\n",
        "  for i in range(n):\n",
        "    numbers.append(i)\n",
        "  return numbers\n",
        "\n",
        "\n",
        "result = get_n_numbers_list(6)\n",
        "result"
      ]
    },
    {
      "cell_type": "code",
      "execution_count": null,
      "metadata": {
        "colab": {
          "base_uri": "https://localhost:8080/"
        },
        "id": "Tek1fGCoLka_",
        "outputId": "cefe7a95-7b49-4b6e-9a74-df4550cd2c40"
      },
      "outputs": [
        {
          "data": {
            "text/plain": [
              "2"
            ]
          },
          "execution_count": 47,
          "metadata": {},
          "output_type": "execute_result"
        }
      ],
      "source": [
        "result[2]"
      ]
    },
    {
      "cell_type": "code",
      "execution_count": null,
      "metadata": {
        "colab": {
          "base_uri": "https://localhost:8080/"
        },
        "id": "rohfapgtW7m2",
        "outputId": "4e36516f-56e0-4750-9de1-d1a88eaeedd2"
      },
      "outputs": [
        {
          "data": {
            "text/plain": [
              "list"
            ]
          },
          "execution_count": 48,
          "metadata": {},
          "output_type": "execute_result"
        }
      ],
      "source": [
        "type(result)"
      ]
    },
    {
      "cell_type": "code",
      "execution_count": null,
      "metadata": {
        "colab": {
          "base_uri": "https://localhost:8080/"
        },
        "id": "9fyY3nzdBaMM",
        "outputId": "edc6781c-368d-436e-a62b-af877fc425c0"
      },
      "outputs": [
        {
          "data": {
            "text/plain": [
              "str"
            ]
          },
          "execution_count": 50,
          "metadata": {},
          "output_type": "execute_result"
        }
      ],
      "source": [
        "a = 'super'\n",
        "type(a)"
      ]
    },
    {
      "cell_type": "code",
      "execution_count": null,
      "metadata": {
        "colab": {
          "base_uri": "https://localhost:8080/"
        },
        "id": "-Y3wRfAeS0l3",
        "outputId": "b3697543-4dd1-4100-d202-37932b863dc5"
      },
      "outputs": [
        {
          "data": {
            "text/plain": [
              "<generator object get_n_numbers_generator at 0x7fc4db289000>"
            ]
          },
          "execution_count": 66,
          "metadata": {},
          "output_type": "execute_result"
        }
      ],
      "source": [
        "def get_n_numbers_generator(n):\n",
        "    for i in range(5, n+5):\n",
        "      yield i\n",
        "\n",
        "result = get_n_numbers_generator(9)\n",
        "result"
      ]
    },
    {
      "cell_type": "code",
      "execution_count": null,
      "metadata": {
        "colab": {
          "base_uri": "https://localhost:8080/"
        },
        "id": "xjtErsdeXCsT",
        "outputId": "509a1536-d884-4746-a953-e16fdc91c6f4"
      },
      "outputs": [
        {
          "data": {
            "text/plain": [
              "generator"
            ]
          },
          "execution_count": 52,
          "metadata": {},
          "output_type": "execute_result"
        }
      ],
      "source": [
        "type(result)"
      ]
    },
    {
      "cell_type": "code",
      "execution_count": null,
      "metadata": {
        "colab": {
          "base_uri": "https://localhost:8080/"
        },
        "id": "1q-swZ6ESzLt",
        "outputId": "485e5559-e7bc-4430-9599-0ada55c8ce39"
      },
      "outputs": [
        {
          "data": {
            "text/plain": [
              "0"
            ]
          },
          "execution_count": 53,
          "metadata": {},
          "output_type": "execute_result"
        }
      ],
      "source": [
        "next(result)"
      ]
    },
    {
      "cell_type": "code",
      "execution_count": null,
      "metadata": {
        "colab": {
          "base_uri": "https://localhost:8080/"
        },
        "id": "3nbSm2SzUp5A",
        "outputId": "e6f7923e-b0cd-4552-a61d-2ce0777ffec1"
      },
      "outputs": [
        {
          "data": {
            "text/plain": [
              "1"
            ]
          },
          "execution_count": 54,
          "metadata": {},
          "output_type": "execute_result"
        }
      ],
      "source": [
        "next(result)"
      ]
    },
    {
      "cell_type": "code",
      "execution_count": null,
      "metadata": {
        "colab": {
          "base_uri": "https://localhost:8080/",
          "height": 178
        },
        "id": "BNW-nMFXXTgu",
        "outputId": "31282fe8-0b0d-44fc-bd6c-45bd859bee6d"
      },
      "outputs": [
        {
          "ename": "StopIteration",
          "evalue": "",
          "output_type": "error",
          "traceback": [
            "\u001b[0;31m---------------------------------------------------------------------------\u001b[0m",
            "\u001b[0;31mStopIteration\u001b[0m                             Traceback (most recent call last)",
            "\u001b[0;32m<ipython-input-63-709396a5599b>\u001b[0m in \u001b[0;36m<cell line: 1>\u001b[0;34m()\u001b[0m\n\u001b[0;32m----> 1\u001b[0;31m \u001b[0mnext\u001b[0m\u001b[0;34m(\u001b[0m\u001b[0mresult\u001b[0m\u001b[0;34m)\u001b[0m\u001b[0;34m\u001b[0m\u001b[0;34m\u001b[0m\u001b[0m\n\u001b[0m",
            "\u001b[0;31mStopIteration\u001b[0m: "
          ]
        }
      ],
      "source": [
        "next(result)"
      ]
    },
    {
      "cell_type": "code",
      "execution_count": null,
      "metadata": {
        "colab": {
          "base_uri": "https://localhost:8080/"
        },
        "id": "rj48XM2EXUpl",
        "outputId": "aa950d1d-cc67-4424-e476-982503dfc8b7"
      },
      "outputs": [
        {
          "name": "stdout",
          "output_type": "stream",
          "text": [
            "5\n",
            "6\n",
            "7\n",
            "8\n",
            "9\n",
            "10\n",
            "value is 7\n"
          ]
        }
      ],
      "source": [
        "new_result = get_n_numbers_generator(6)\n",
        "for index, i in enumerate(new_result):\n",
        "  if index == 2:\n",
        "    value = i\n",
        "  print(i)\n",
        "print('value is', value)"
      ]
    },
    {
      "cell_type": "code",
      "execution_count": null,
      "metadata": {
        "colab": {
          "base_uri": "https://localhost:8080/"
        },
        "id": "24G1WWcecRPV",
        "outputId": "bd081e6d-d6a3-4639-f07e-723ca5597278"
      },
      "outputs": [
        {
          "name": "stdout",
          "output_type": "stream",
          "text": [
            "List memory: 120\n",
            "Generator memory: 104\n"
          ]
        }
      ],
      "source": [
        "#List VS Generator\n",
        "import sys\n",
        "\n",
        "n = 6\n",
        "result_list = get_n_numbers_list(n)\n",
        "result_generator = get_n_numbers_generator(n)\n",
        "\n",
        "print(\"List memory:\",sys.getsizeof(result_list))\n",
        "print(\"Generator memory:\",sys.getsizeof(result_generator))\n"
      ]
    },
    {
      "cell_type": "code",
      "execution_count": null,
      "metadata": {
        "colab": {
          "base_uri": "https://localhost:8080/"
        },
        "id": "k-4mPGwMKQgk",
        "outputId": "82752ff0-b730-49f9-d80a-bb0d78be81f8"
      },
      "outputs": [
        {
          "name": "stdout",
          "output_type": "stream",
          "text": [
            "List memory: 5432\n",
            "Generator memory: 104\n"
          ]
        }
      ],
      "source": [
        "n = 600\n",
        "result_list = get_n_numbers_list(n)\n",
        "result_generator = get_n_numbers_generator(n)\n",
        "\n",
        "print(\"List memory:\",sys.getsizeof(result_list))\n",
        "print(\"Generator memory:\",sys.getsizeof(result_generator))"
      ]
    },
    {
      "cell_type": "markdown",
      "metadata": {
        "id": "FA0KDNbwXkxP"
      },
      "source": [
        "## List Comprehension\n"
      ]
    },
    {
      "cell_type": "code",
      "execution_count": null,
      "metadata": {
        "colab": {
          "base_uri": "https://localhost:8080/"
        },
        "id": "2fjWIYG0XkFK",
        "outputId": "e8d7252a-b25f-4ab4-b7e1-3cbafc50f4df"
      },
      "outputs": [
        {
          "data": {
            "text/plain": [
              "[0, 1, 2, 3, 4, 5]"
            ]
          },
          "execution_count": 70,
          "metadata": {},
          "output_type": "execute_result"
        }
      ],
      "source": [
        "#Normal loop\n",
        "numbers = []\n",
        "for i in range(6):\n",
        "  numbers.append(i)\n",
        "numbers"
      ]
    },
    {
      "cell_type": "code",
      "execution_count": null,
      "metadata": {
        "colab": {
          "base_uri": "https://localhost:8080/"
        },
        "id": "HGi_MBvxXkJb",
        "outputId": "5d9c9c6f-91b2-4abb-dd52-eacdf95a2c40"
      },
      "outputs": [
        {
          "data": {
            "text/plain": [
              "[0, 1, 2, 3, 4, 5]"
            ]
          },
          "execution_count": 71,
          "metadata": {},
          "output_type": "execute_result"
        }
      ],
      "source": [
        "#List comprehension\n",
        "numbers = [i for i in range(6)]\n",
        "numbers"
      ]
    },
    {
      "cell_type": "code",
      "execution_count": null,
      "metadata": {
        "colab": {
          "base_uri": "https://localhost:8080/"
        },
        "id": "jYGLNYMlaekb",
        "outputId": "d76e3978-4d24-4acb-ab0a-41faf89e4700"
      },
      "outputs": [
        {
          "data": {
            "text/plain": [
              "[0, 1, 2, 3, 4, 5]"
            ]
          },
          "execution_count": 72,
          "metadata": {},
          "output_type": "execute_result"
        }
      ],
      "source": [
        "numbers = list(i for i in range(6))\n",
        "numbers"
      ]
    },
    {
      "cell_type": "code",
      "execution_count": null,
      "metadata": {
        "colab": {
          "base_uri": "https://localhost:8080/"
        },
        "id": "Hb1aLCDYZFT3",
        "outputId": "7a662448-80f7-4641-c695-fe9fa6ab1f82"
      },
      "outputs": [
        {
          "data": {
            "text/plain": [
              "<generator object <genexpr> at 0x7fc4db288eb0>"
            ]
          },
          "execution_count": 73,
          "metadata": {},
          "output_type": "execute_result"
        }
      ],
      "source": [
        "numbers = (i for i in range(6))\n",
        "numbers"
      ]
    },
    {
      "cell_type": "code",
      "execution_count": null,
      "metadata": {
        "colab": {
          "base_uri": "https://localhost:8080/"
        },
        "id": "o2s-EpWXZc94",
        "outputId": "316a25d1-8758-4495-d54a-2e10a2024344"
      },
      "outputs": [
        {
          "data": {
            "text/plain": [
              "1"
            ]
          },
          "execution_count": 75,
          "metadata": {},
          "output_type": "execute_result"
        }
      ],
      "source": [
        "next(numbers)"
      ]
    },
    {
      "cell_type": "code",
      "execution_count": null,
      "metadata": {
        "colab": {
          "base_uri": "https://localhost:8080/"
        },
        "id": "OretIK53Zy2_",
        "outputId": "b591574f-25fd-40d5-95a6-50c240cd4936"
      },
      "outputs": [
        {
          "data": {
            "text/plain": [
              "(0, 1, 2, 3, 4, 5)"
            ]
          },
          "execution_count": 81,
          "metadata": {},
          "output_type": "execute_result"
        }
      ],
      "source": [
        "numbers = tuple(i for i in range(6))\n",
        "numbers"
      ]
    },
    {
      "cell_type": "markdown",
      "metadata": {
        "id": "oM_xzCaDd2rk"
      },
      "source": [
        "## Lambda *functions*"
      ]
    },
    {
      "cell_type": "code",
      "execution_count": null,
      "metadata": {
        "colab": {
          "base_uri": "https://localhost:8080/"
        },
        "id": "FeIrCK1gaH5Y",
        "outputId": "58be9e54-e7e2-4283-cb96-5dab2a89a698"
      },
      "outputs": [
        {
          "data": {
            "text/plain": [
              "16"
            ]
          },
          "execution_count": 82,
          "metadata": {},
          "output_type": "execute_result"
        }
      ],
      "source": [
        "#Normal function\n",
        "def f1(x):\n",
        "  return x**2\n",
        "\n",
        "f1(4)"
      ]
    },
    {
      "cell_type": "code",
      "execution_count": null,
      "metadata": {
        "colab": {
          "base_uri": "https://localhost:8080/",
          "height": 104
        },
        "id": "jL7cClyoQrLA",
        "outputId": "9cd74a8b-6f13-47fe-a085-276698bb0581"
      },
      "outputs": [
        {
          "data": {
            "text/html": [
              "<div style=\"max-width:800px; border: 1px solid var(--colab-border-color);\"><style>\n",
              "      pre.function-repr-contents {\n",
              "        overflow-x: auto;\n",
              "        padding: 8px 12px;\n",
              "        max-height: 500px;\n",
              "      }\n",
              "\n",
              "      pre.function-repr-contents.function-repr-contents-collapsed {\n",
              "        cursor: pointer;\n",
              "        max-height: 100px;\n",
              "      }\n",
              "    </style>\n",
              "    <pre style=\"white-space: initial; background:\n",
              "         var(--colab-secondary-surface-color); padding: 8px 12px;\n",
              "         border-bottom: 1px solid var(--colab-border-color);\"><b>f1</b><br/>def f1(x)</pre><pre class=\"function-repr-contents function-repr-contents-collapsed\" style=\"\"><a class=\"filepath\" style=\"display:none\" href=\"#\">/content/&lt;ipython-input-19-f180f5c20175&gt;</a>&lt;no docstring&gt;</pre></div>"
            ],
            "text/plain": [
              "<function __main__.f1(x)>"
            ]
          },
          "execution_count": 20,
          "metadata": {},
          "output_type": "execute_result"
        }
      ],
      "source": [
        "f1"
      ]
    },
    {
      "cell_type": "code",
      "execution_count": null,
      "metadata": {
        "colab": {
          "base_uri": "https://localhost:8080/"
        },
        "id": "OmKA8FIfHMCA",
        "outputId": "25c2ae06-d4aa-467c-cc3d-0eee1dc9f943"
      },
      "outputs": [
        {
          "data": {
            "text/plain": [
              "20"
            ]
          },
          "execution_count": 84,
          "metadata": {},
          "output_type": "execute_result"
        }
      ],
      "source": [
        "f21 = lambda x, y: x*y\n",
        "f21(4,5)"
      ]
    },
    {
      "cell_type": "code",
      "execution_count": null,
      "metadata": {
        "colab": {
          "base_uri": "https://localhost:8080/"
        },
        "id": "bSDN3sbAHXPX",
        "outputId": "fb2b4dc6-8187-40b6-8f96-20dbcf48d876"
      },
      "outputs": [
        {
          "data": {
            "text/plain": [
              "(4, 5, 20)"
            ]
          },
          "execution_count": 85,
          "metadata": {},
          "output_type": "execute_result"
        }
      ],
      "source": [
        "f22 = lambda x, y: (x, y, x*y)\n",
        "f22(4,5)"
      ]
    },
    {
      "cell_type": "code",
      "execution_count": null,
      "metadata": {
        "colab": {
          "base_uri": "https://localhost:8080/"
        },
        "id": "FwZZE5BreSPi",
        "outputId": "7a280ee9-68fc-4624-80bd-ef1ad302a49e"
      },
      "outputs": [
        {
          "data": {
            "text/plain": [
              "16"
            ]
          },
          "execution_count": 83,
          "metadata": {},
          "output_type": "execute_result"
        }
      ],
      "source": [
        "f2 = lambda x: x**2\n",
        "f2(4)"
      ]
    },
    {
      "cell_type": "code",
      "execution_count": null,
      "metadata": {
        "colab": {
          "base_uri": "https://localhost:8080/"
        },
        "id": "gcvxXvaLe7SC",
        "outputId": "6036b6c7-766d-4946-bd2c-cbe9c8093999"
      },
      "outputs": [
        {
          "data": {
            "text/plain": [
              "14"
            ]
          },
          "execution_count": 86,
          "metadata": {},
          "output_type": "execute_result"
        }
      ],
      "source": [
        "def h(f, x):\n",
        "  return f(x)-2\n",
        "\n",
        "h(f=lambda x: x**2, x=4)"
      ]
    },
    {
      "cell_type": "markdown",
      "metadata": {
        "id": "f8jgItiLdUgE"
      },
      "source": [
        "## Multiple Function Arguments"
      ]
    },
    {
      "cell_type": "code",
      "execution_count": null,
      "metadata": {
        "colab": {
          "base_uri": "https://localhost:8080/"
        },
        "id": "b8HcaMw6f2hq",
        "outputId": "5bab943e-a544-42e3-eb55-7735e3f012ee"
      },
      "outputs": [
        {
          "data": {
            "text/plain": [
              "14.9"
            ]
          },
          "execution_count": 88,
          "metadata": {},
          "output_type": "execute_result"
        }
      ],
      "source": [
        "def add(a, b):\n",
        "  return a+b\n",
        "\n",
        "add(4.4, 10.5)"
      ]
    },
    {
      "cell_type": "code",
      "execution_count": null,
      "metadata": {
        "colab": {
          "base_uri": "https://localhost:8080/"
        },
        "id": "1RfKSp7PgVhg",
        "outputId": "fd44da86-5090-40af-d357-7b7bf9360748"
      },
      "outputs": [
        {
          "data": {
            "text/plain": [
              "17"
            ]
          },
          "execution_count": 89,
          "metadata": {},
          "output_type": "execute_result"
        }
      ],
      "source": [
        "def add(a, b, number_list):\n",
        "  return a+b+sum(number_list)\n",
        "\n",
        "numbers=[1,4]\n",
        "add(4, 8, numbers)"
      ]
    },
    {
      "cell_type": "code",
      "execution_count": null,
      "metadata": {
        "colab": {
          "base_uri": "https://localhost:8080/"
        },
        "id": "pWDlb87dg-7K",
        "outputId": "71af3000-2504-4ca3-9016-358def15de21"
      },
      "outputs": [
        {
          "data": {
            "text/plain": [
              "14"
            ]
          },
          "execution_count": 90,
          "metadata": {},
          "output_type": "execute_result"
        }
      ],
      "source": [
        "def add(a, number_dict):\n",
        "  return a+number_dict['b']+number_dict['c']\n",
        "\n",
        "numbers={'b': 4, 'c': 8}\n",
        "add(2, numbers)"
      ]
    },
    {
      "cell_type": "code",
      "execution_count": null,
      "metadata": {
        "colab": {
          "base_uri": "https://localhost:8080/"
        },
        "id": "WwFb92E4VusH",
        "outputId": "680c1503-d97b-4a3c-9fe5-93953051d685"
      },
      "outputs": [
        {
          "data": {
            "text/plain": [
              "3"
            ]
          },
          "execution_count": 91,
          "metadata": {},
          "output_type": "execute_result"
        }
      ],
      "source": [
        "def add2(a, b=2):\n",
        "  return a+b\n",
        "add2(a=1)"
      ]
    },
    {
      "cell_type": "code",
      "execution_count": null,
      "metadata": {
        "colab": {
          "base_uri": "https://localhost:8080/",
          "height": 178
        },
        "id": "3gI-dZe-I1KD",
        "outputId": "cbcef963-e2aa-400c-dcae-f1ac7431ab02"
      },
      "outputs": [
        {
          "ename": "TypeError",
          "evalue": "add2() got an unexpected keyword argument 'c'",
          "output_type": "error",
          "traceback": [
            "\u001b[0;31m---------------------------------------------------------------------------\u001b[0m",
            "\u001b[0;31mTypeError\u001b[0m                                 Traceback (most recent call last)",
            "\u001b[0;32m<ipython-input-93-18d141c83cb8>\u001b[0m in \u001b[0;36m<cell line: 1>\u001b[0;34m()\u001b[0m\n\u001b[0;32m----> 1\u001b[0;31m \u001b[0madd2\u001b[0m\u001b[0;34m(\u001b[0m\u001b[0ma\u001b[0m\u001b[0;34m=\u001b[0m\u001b[0;36m1\u001b[0m\u001b[0;34m,\u001b[0m \u001b[0mb\u001b[0m\u001b[0;34m=\u001b[0m\u001b[0;36m6\u001b[0m\u001b[0;34m,\u001b[0m \u001b[0mc\u001b[0m\u001b[0;34m=\u001b[0m\u001b[0;36m4\u001b[0m\u001b[0;34m)\u001b[0m\u001b[0;34m\u001b[0m\u001b[0;34m\u001b[0m\u001b[0m\n\u001b[0m",
            "\u001b[0;31mTypeError\u001b[0m: add2() got an unexpected keyword argument 'c'"
          ]
        }
      ],
      "source": [
        "add2(a=1, b=6, c=4)"
      ]
    },
    {
      "cell_type": "code",
      "execution_count": null,
      "metadata": {
        "colab": {
          "base_uri": "https://localhost:8080/"
        },
        "id": "zOFZZstad34d",
        "outputId": "152f0d26-d4ea-4107-cb91-3e40b96408a1"
      },
      "outputs": [
        {
          "data": {
            "text/plain": [
              "255"
            ]
          },
          "execution_count": 95,
          "metadata": {},
          "output_type": "execute_result"
        }
      ],
      "source": [
        "def add3(*args):\n",
        "  return sum(args)\n",
        "add3(1, 5, 9, 86, 55, 99)"
      ]
    },
    {
      "cell_type": "code",
      "execution_count": null,
      "metadata": {
        "colab": {
          "base_uri": "https://localhost:8080/"
        },
        "id": "G9QLiQG1KksN",
        "outputId": "09258b1f-b73a-4b5d-ff8b-a93d71622c60"
      },
      "outputs": [
        {
          "data": {
            "text/plain": [
              "255"
            ]
          },
          "execution_count": 100,
          "metadata": {},
          "output_type": "execute_result"
        }
      ],
      "source": [
        "add3(*[1, 5, 9, 86, 55, 99])"
      ]
    },
    {
      "cell_type": "code",
      "execution_count": null,
      "metadata": {
        "colab": {
          "base_uri": "https://localhost:8080/"
        },
        "id": "Rmc3GSi0eNym",
        "outputId": "41025f49-80c8-4bfd-a132-bb258787859e"
      },
      "outputs": [
        {
          "name": "stdout",
          "output_type": "stream",
          "text": [
            "kwargs: {'a': 4, 'b': 7}\n"
          ]
        },
        {
          "data": {
            "text/plain": [
              "11"
            ]
          },
          "execution_count": 97,
          "metadata": {},
          "output_type": "execute_result"
        }
      ],
      "source": [
        "def add4(**kwargs):\n",
        "  print('kwargs:', kwargs)\n",
        "  return sum(kwargs.values())\n",
        "add4(a=4, b=7)"
      ]
    },
    {
      "cell_type": "code",
      "execution_count": null,
      "metadata": {
        "id": "KiTBN5K1KbUu"
      },
      "outputs": [],
      "source": [
        "add4(**{'a':9, 'b':6})"
      ]
    },
    {
      "cell_type": "code",
      "execution_count": null,
      "metadata": {
        "colab": {
          "base_uri": "https://localhost:8080/"
        },
        "id": "7jV14gf3KIsQ",
        "outputId": "0baeb457-165f-4fb4-c4bc-45fc36e4a90b"
      },
      "outputs": [
        {
          "name": "stdout",
          "output_type": "stream",
          "text": [
            "kwargs: {'a': 9, 'b': 6}\n"
          ]
        },
        {
          "data": {
            "text/plain": [
              "15"
            ]
          },
          "execution_count": 99,
          "metadata": {},
          "output_type": "execute_result"
        }
      ],
      "source": [
        "add4(**{'a':9, 'b':6})"
      ]
    },
    {
      "cell_type": "markdown",
      "metadata": {
        "id": "sMtgfU54dUwn"
      },
      "source": [
        "## Exception Handling"
      ]
    },
    {
      "cell_type": "code",
      "execution_count": null,
      "metadata": {
        "colab": {
          "base_uri": "https://localhost:8080/",
          "height": 336
        },
        "id": "ovUXbSo8jXIl",
        "outputId": "c19f12a4-6869-4b23-f313-ee425fb58fe0"
      },
      "outputs": [
        {
          "ename": "KeyError",
          "evalue": "'last_name'",
          "output_type": "error",
          "traceback": [
            "\u001b[0;31m---------------------------------------------------------------------------\u001b[0m",
            "\u001b[0;31mKeyError\u001b[0m                                  Traceback (most recent call last)",
            "\u001b[0;32m<ipython-input-101-153da2ebf00d>\u001b[0m in \u001b[0;36m<cell line: 6>\u001b[0;34m()\u001b[0m\n\u001b[1;32m      4\u001b[0m   \u001b[0;32mreturn\u001b[0m \u001b[0mactor\u001b[0m\u001b[0;34m[\u001b[0m\u001b[0;34m\"last_name\"\u001b[0m\u001b[0;34m]\u001b[0m\u001b[0;34m\u001b[0m\u001b[0;34m\u001b[0m\u001b[0m\n\u001b[1;32m      5\u001b[0m \u001b[0;34m\u001b[0m\u001b[0m\n\u001b[0;32m----> 6\u001b[0;31m \u001b[0mget_last_name\u001b[0m\u001b[0;34m(\u001b[0m\u001b[0;34m)\u001b[0m\u001b[0;34m\u001b[0m\u001b[0;34m\u001b[0m\u001b[0m\n\u001b[0m",
            "\u001b[0;32m<ipython-input-101-153da2ebf00d>\u001b[0m in \u001b[0;36mget_last_name\u001b[0;34m()\u001b[0m\n\u001b[1;32m      2\u001b[0m \u001b[0;34m\u001b[0m\u001b[0m\n\u001b[1;32m      3\u001b[0m \u001b[0;32mdef\u001b[0m \u001b[0mget_last_name\u001b[0m\u001b[0;34m(\u001b[0m\u001b[0;34m)\u001b[0m\u001b[0;34m:\u001b[0m\u001b[0;34m\u001b[0m\u001b[0;34m\u001b[0m\u001b[0m\n\u001b[0;32m----> 4\u001b[0;31m   \u001b[0;32mreturn\u001b[0m \u001b[0mactor\u001b[0m\u001b[0;34m[\u001b[0m\u001b[0;34m\"last_name\"\u001b[0m\u001b[0;34m]\u001b[0m\u001b[0;34m\u001b[0m\u001b[0;34m\u001b[0m\u001b[0m\n\u001b[0m\u001b[1;32m      5\u001b[0m \u001b[0;34m\u001b[0m\u001b[0m\n\u001b[1;32m      6\u001b[0m \u001b[0mget_last_name\u001b[0m\u001b[0;34m(\u001b[0m\u001b[0;34m)\u001b[0m\u001b[0;34m\u001b[0m\u001b[0;34m\u001b[0m\u001b[0m\n",
            "\u001b[0;31mKeyError\u001b[0m: 'last_name'"
          ]
        }
      ],
      "source": [
        "actor = {\"name\": \"Django\", \"rank\": \"awesome\"}\n",
        "\n",
        "def get_last_name():\n",
        "  return actor[\"last_name\"]\n",
        "\n",
        "get_last_name()"
      ]
    },
    {
      "cell_type": "code",
      "execution_count": null,
      "metadata": {
        "colab": {
          "base_uri": "https://localhost:8080/"
        },
        "id": "RUTvA59UkqPc",
        "outputId": "e7f67780-e22b-4069-9e3b-c7cf5c02fcbd"
      },
      "outputs": [
        {
          "name": "stdout",
          "output_type": "stream",
          "text": [
            "error\n"
          ]
        }
      ],
      "source": [
        "def get_last_name():\n",
        "  try:\n",
        "    return actor[\"last_name\"]\n",
        "  except:\n",
        "    print('error')\n",
        "    pass\n",
        "\n",
        "get_last_name()"
      ]
    },
    {
      "cell_type": "code",
      "execution_count": null,
      "metadata": {
        "colab": {
          "base_uri": "https://localhost:8080/",
          "height": 35
        },
        "id": "4bP6y_IslI4T",
        "outputId": "2f7e677c-5dff-48b0-a28c-15824a7030ce"
      },
      "outputs": [
        {
          "data": {
            "application/vnd.google.colaboratory.intrinsic+json": {
              "type": "string"
            },
            "text/plain": [
              "'Baba'"
            ]
          },
          "execution_count": 103,
          "metadata": {},
          "output_type": "execute_result"
        }
      ],
      "source": [
        "def get_last_name():\n",
        "  try:\n",
        "    return actor[\"last_name\"]\n",
        "  except:\n",
        "    actor[\"last_name\"]='Baba'\n",
        "    return actor[\"last_name\"]\n",
        "\n",
        "get_last_name()"
      ]
    },
    {
      "cell_type": "markdown",
      "metadata": {
        "id": "KTGFbMCui-1j"
      },
      "source": [
        "## Sets"
      ]
    },
    {
      "cell_type": "code",
      "execution_count": null,
      "metadata": {
        "colab": {
          "base_uri": "https://localhost:8080/"
        },
        "id": "DkSotrNpv1W6",
        "outputId": "4718320a-d21f-47dc-9506-5fe4f4608d20"
      },
      "outputs": [
        {
          "data": {
            "text/plain": [
              "{1}"
            ]
          },
          "execution_count": 105,
          "metadata": {},
          "output_type": "execute_result"
        }
      ],
      "source": [
        "a = {1}\n",
        "b = set([1])\n",
        "a == b\n",
        "a"
      ]
    },
    {
      "cell_type": "code",
      "execution_count": null,
      "metadata": {
        "colab": {
          "base_uri": "https://localhost:8080/"
        },
        "id": "WCZezVTgMDdg",
        "outputId": "eb4fe67a-b659-4915-c86e-8b6754dbf970"
      },
      "outputs": [
        {
          "data": {
            "text/plain": [
              "{1, 3, 5}"
            ]
          },
          "execution_count": 106,
          "metadata": {},
          "output_type": "execute_result"
        }
      ],
      "source": [
        "a = {1,3, 5}\n",
        "a"
      ]
    },
    {
      "cell_type": "code",
      "execution_count": null,
      "metadata": {
        "colab": {
          "base_uri": "https://localhost:8080/"
        },
        "id": "lCKw2dyNZn-7",
        "outputId": "54c51fe5-deb9-4f66-99e9-4c23a437fdcb"
      },
      "outputs": [
        {
          "data": {
            "text/plain": [
              "['tonton', 'tata', 'toto', 'tata']"
            ]
          },
          "execution_count": 107,
          "metadata": {},
          "output_type": "execute_result"
        }
      ],
      "source": [
        "['tonton', 'tata', 'toto', 'tata']"
      ]
    },
    {
      "cell_type": "code",
      "execution_count": null,
      "metadata": {
        "colab": {
          "base_uri": "https://localhost:8080/"
        },
        "id": "wNx1aztvv_Ik",
        "outputId": "e48b3250-d350-41fe-8390-3b6af227025e"
      },
      "outputs": [
        {
          "data": {
            "text/plain": [
              "{'tata', 'tonton', 'toto'}"
            ]
          },
          "execution_count": 108,
          "metadata": {},
          "output_type": "execute_result"
        }
      ],
      "source": [
        "a = set(['tonton', 'tata', 'toto', 'tata'])\n",
        "a"
      ]
    },
    {
      "cell_type": "code",
      "execution_count": null,
      "metadata": {
        "colab": {
          "base_uri": "https://localhost:8080/"
        },
        "id": "6PStDPl9wlKJ",
        "outputId": "52d6422e-b467-4b6a-b8e9-0514c413cceb"
      },
      "outputs": [
        {
          "data": {
            "text/plain": [
              "{'tata', 'tonton'}"
            ]
          },
          "execution_count": 109,
          "metadata": {},
          "output_type": "execute_result"
        }
      ],
      "source": [
        "a = {'tonton', 'tata', 'toto', 'tata'}\n",
        "b = {'toto', 'titi'}\n",
        "\n",
        "a.difference(b)"
      ]
    },
    {
      "cell_type": "code",
      "execution_count": null,
      "metadata": {
        "colab": {
          "base_uri": "https://localhost:8080/"
        },
        "id": "XXRoF0f1w99N",
        "outputId": "f5c2f559-a80c-4a45-e560-97a7b0856e54"
      },
      "outputs": [
        {
          "data": {
            "text/plain": [
              "{'tata', 'titi', 'tonton', 'toto'}"
            ]
          },
          "execution_count": 110,
          "metadata": {},
          "output_type": "execute_result"
        }
      ],
      "source": [
        "a.union(b)"
      ]
    },
    {
      "cell_type": "code",
      "execution_count": null,
      "metadata": {
        "colab": {
          "base_uri": "https://localhost:8080/"
        },
        "id": "Z7_G-XZNxLyP",
        "outputId": "38bbde99-61ad-4476-b1c9-8ea365794f55"
      },
      "outputs": [
        {
          "data": {
            "text/plain": [
              "{'toto'}"
            ]
          },
          "execution_count": 210,
          "metadata": {},
          "output_type": "execute_result"
        }
      ],
      "source": [
        "a.intersection(b)"
      ]
    },
    {
      "cell_type": "markdown",
      "metadata": {
        "id": "_rgNR2J-x6Cq"
      },
      "source": [
        "## Map"
      ]
    },
    {
      "cell_type": "code",
      "execution_count": null,
      "metadata": {
        "colab": {
          "base_uri": "https://localhost:8080/"
        },
        "id": "a5_uYBTjxTNs",
        "outputId": "4f417841-1afb-4cb7-82bb-339731134cd1"
      },
      "outputs": [
        {
          "data": {
            "text/plain": [
              "range(0, 10)"
            ]
          },
          "execution_count": 111,
          "metadata": {},
          "output_type": "execute_result"
        }
      ],
      "source": [
        "numbers = range(10)\n",
        "numbers"
      ]
    },
    {
      "cell_type": "code",
      "execution_count": null,
      "metadata": {
        "colab": {
          "base_uri": "https://localhost:8080/"
        },
        "id": "I82NnVKkyUrc",
        "outputId": "704d18b6-7aa1-4b20-fe8d-adb2234ed3c2"
      },
      "outputs": [
        {
          "data": {
            "text/plain": [
              "[0, 1, 2, 3, 4, 5, 6, 7, 8, 9]"
            ]
          },
          "execution_count": 112,
          "metadata": {},
          "output_type": "execute_result"
        }
      ],
      "source": [
        "list(numbers)"
      ]
    },
    {
      "cell_type": "code",
      "execution_count": null,
      "metadata": {
        "colab": {
          "base_uri": "https://localhost:8080/"
        },
        "id": "1hXPifD8OFmO",
        "outputId": "5d6d633c-a800-490b-8540-ac583f2a9179"
      },
      "outputs": [
        {
          "data": {
            "text/plain": [
              "81"
            ]
          },
          "execution_count": 125,
          "metadata": {},
          "output_type": "execute_result"
        }
      ],
      "source": [
        "square(9)"
      ]
    },
    {
      "cell_type": "code",
      "execution_count": null,
      "metadata": {
        "colab": {
          "base_uri": "https://localhost:8080/"
        },
        "id": "DKUavXiGyaOT",
        "outputId": "b3aac5ac-9ef8-4c8b-cbcd-cc86b41c5dec"
      },
      "outputs": [
        {
          "data": {
            "text/plain": [
              "<map at 0x7fc4db41c280>"
            ]
          },
          "execution_count": 128,
          "metadata": {},
          "output_type": "execute_result"
        }
      ],
      "source": [
        "square = lambda x: x**2\n",
        "\n",
        "result = map(square, numbers)\n",
        "result"
      ]
    },
    {
      "cell_type": "code",
      "execution_count": null,
      "metadata": {
        "colab": {
          "base_uri": "https://localhost:8080/"
        },
        "id": "ppM19h00OS_t",
        "outputId": "73d84eaf-dbb3-48af-bf8a-4a40c3d2954b"
      },
      "outputs": [
        {
          "data": {
            "text/plain": [
              "[0, 1, 4, 9, 16, 25, 36, 49, 64, 81]"
            ]
          },
          "execution_count": 129,
          "metadata": {},
          "output_type": "execute_result"
        }
      ],
      "source": [
        "list(result)"
      ]
    },
    {
      "cell_type": "code",
      "execution_count": null,
      "metadata": {
        "colab": {
          "base_uri": "https://localhost:8080/"
        },
        "id": "-Ku2rlsuynxJ",
        "outputId": "78c0fda6-d08a-4bf1-e9f2-6d8c1b2a8bdf"
      },
      "outputs": [
        {
          "data": {
            "text/plain": [
              "0"
            ]
          },
          "execution_count": 127,
          "metadata": {},
          "output_type": "execute_result"
        }
      ],
      "source": [
        "next(result)"
      ]
    },
    {
      "cell_type": "code",
      "execution_count": null,
      "metadata": {
        "colab": {
          "base_uri": "https://localhost:8080/"
        },
        "id": "TU4Mz4FsyvGs",
        "outputId": "3f198107-2ec5-46dd-ea29-4b2abb9420ee"
      },
      "outputs": [
        {
          "data": {
            "text/plain": [
              "[0, 1, 4, 9, 16, 25, 36, 49, 64, 81]"
            ]
          },
          "execution_count": 122,
          "metadata": {},
          "output_type": "execute_result"
        }
      ],
      "source": [
        "result = list(map(square, numbers))\n",
        "result"
      ]
    },
    {
      "cell_type": "code",
      "execution_count": null,
      "metadata": {
        "colab": {
          "base_uri": "https://localhost:8080/"
        },
        "id": "mQmbOm3mcGq9",
        "outputId": "3367f28e-c6cb-4224-d1a1-b02838c36186"
      },
      "outputs": [
        {
          "data": {
            "text/plain": [
              "[0, 1, 4, 9, 16, 25, 36, 49, 64, 81]"
            ]
          },
          "execution_count": 123,
          "metadata": {},
          "output_type": "execute_result"
        }
      ],
      "source": [
        "result = list(map(lambda x: x**2, numbers))\n",
        "result"
      ]
    }
  ],
  "metadata": {
    "colab": {
      "provenance": []
    },
    "kernelspec": {
      "display_name": "Python 3",
      "name": "python3"
    },
    "language_info": {
      "name": "python"
    }
  },
  "nbformat": 4,
  "nbformat_minor": 0
}
